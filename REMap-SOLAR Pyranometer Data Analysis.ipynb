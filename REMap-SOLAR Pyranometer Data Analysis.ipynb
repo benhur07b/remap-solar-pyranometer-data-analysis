{
 "cells": [
  {
   "cell_type": "markdown",
   "metadata": {
    "collapsed": false,
    "deletable": true,
    "editable": true
   },
   "source": [
    "## REMap-SOLAR Pyranometer Data Analysis\n",
    "### About\n",
    "This Notebook is used for the Analysis of the Solar Radiation Readings of Pyranometers installed by REMap-SOLAR.\n",
    "\n",
    "### RUNNING THE TOOL\n",
    "_**REQUIREMENTS**_\n",
    "* Python 2.7\n",
    "* jupyter\n",
    "* pandas\n",
    "* numpy\n",
    "* matplotlib\n",
    "\n",
    "They are also found in the __requirements.txt__ file.  \n",
    "You can install these requirements using __pip__ (__sudo pip install -r requirements.txt__ _or_ __pip install -r requirements.txt__)  \n",
    "\n",
    "_**PROCEDURE**_\n",
    "1. Enter the input parameters in the cell marked as \"_INPUT PARAMETERS_\".\n",
    "2. Run all cells above __SENSOR READING STATS__ (__Cell -> Run All Above__)\n",
    "3. Go to the cell with the code you want to run (i.e SENSOR READING STATS, MONTHLY STATS, etc)\n",
    "4. In the Toolbar above: __Cell -> Run Cells__\n",
    "\n",
    "### LICENSE  \n",
    "The \"REMap-Solar Pyranometer Data Analysis Tool\" is provided under the GNU General Public License (GNU-GPL) v3.0\n",
    "\n",
    "_Copyright (C) 2016 Ben Hur S. Pintor (bhs.pintor@gmail.com)_\n",
    "\n",
    "This program is free software: you can redistribute it and/or modify it under the terms of the GNU General Public License as published by the Free Software Foundation, either version 3 of the License, or (at your option) any later version.\n",
    "\n",
    "This program is distributed in the hope that it will be useful, but WITHOUT ANY WARRANTY; without even the implied warranty of MERCHANTABILITY or FITNESS FOR A PARTICULAR PURPOSE.  See the GNU General Public License for more details.\n",
    "\n",
    "You should have received a copy of the GNU General Public License along with this program.  If not, see <http://www.gnu.org/licenses/>."
   ]
  },
  {
   "cell_type": "code",
   "execution_count": null,
   "metadata": {
    "collapsed": false,
    "deletable": true,
    "editable": true
   },
   "outputs": [],
   "source": [
    "%matplotlib inline\n",
    "\n",
    "import numpy as np\n",
    "import pandas as pd\n",
    "import datetime as dt\n",
    "import matplotlib.pyplot as plt\n",
    "import matplotlib\n",
    "\n",
    "__author__ = \"Ben Hur S. Pintor\"\n",
    "__contact__ = \"bhs.pintor@gmail.com\"\n",
    "__version__ = \"0.0.1\""
   ]
  },
  {
   "cell_type": "code",
   "execution_count": null,
   "metadata": {
    "collapsed": true,
    "deletable": true,
    "editable": true
   },
   "outputs": [],
   "source": [
    "'''Input file and SUC'''\n",
    "infile = \"\"  # path to input file\n",
    "\n",
    "suc = \"\"  # (e.g. ADNU, ADZU, etc.) will be used in naming the image plots\n",
    "\n",
    "'''Directory to save image plots'''\n",
    "img_savedir = \"\"\n",
    "\n",
    "'''Column headers of sensor data'''\n",
    "solar_names = ['reading count', 'reading time', 'reading']\n",
    "# solar_names = ['reading_count', 'reading_time', 'wind_spd1', 'gust_spd1', 'wind_spd2', 'gust_spd2', 'wind_dir', 'reading']\n",
    "\n",
    "'''Recording interval of sensor'''\n",
    "time_step = 15.0\n",
    "\n",
    "'''Minimum # of days logging to be considered good monthly data'''\n",
    "n = 20"
   ]
  },
  {
   "cell_type": "code",
   "execution_count": null,
   "metadata": {
    "collapsed": false,
    "deletable": true,
    "editable": true
   },
   "outputs": [],
   "source": [
    "'''Read the input file into a pandas dataframe'''\n",
    "df = pd.read_csv(infile, \n",
    "                 skiprows=1, \n",
    "                 parse_dates=[1,], \n",
    "                 infer_datetime_format=True, \n",
    "                 header=0, \n",
    "                 names=solar_names)\n",
    "\n",
    "df.drop('reading count', axis=1, inplace=True)    # remove the first column (reading_count)\n",
    "\n",
    "'''Uncomment the lines below for pyranometers installed with REMap-WIND sensors'''\n",
    "'''Not necessary if you will remove the columns of wind readings beforehand.'''\n",
    "# df.drop('wind_spd1', axis=1, inplace=True)\n",
    "# df.drop('gust_spd1', axis=1, inplace=True)\n",
    "# df.drop('wind_spd2', axis=1, inplace=True)\n",
    "# df.drop('gust_spd2', axis=1, inplace=True)\n",
    "# df.drop('wind_dir', axis=1, inplace=True)\n",
    "\n",
    "df_no_negative = df[df['reading']>0]   # remove negative values\n",
    "\n",
    "ts = df_no_negative.set_index('reading time')    # set the dataframe into a time series with the index being the reading time\n",
    "ts_unfiltered = df.set_index('reading time')     # unfiltered time series (with negative values)\n",
    "\n",
    "'''ALL READINGS (UNFILTERED)'''\n",
    "all_readings_unfiltered = ts_unfiltered.groupby(pd.TimeGrouper(freq='D'))    # all readings grouped by day\n",
    "all_readings_by_day = ts.groupby(pd.TimeGrouper(freq='D'))     # non-negative readings grouped by day\n",
    "all_readings_by_month = ts.groupby(pd.TimeGrouper(freq='M'))   # non-negative readings grouped by month\n",
    "\n",
    "'''For computations'''\n",
    "daily_averages = ts.resample('D').sum()/(60.0/time_step)  # daily averages (non-negative)\n",
    "num_readings_in_day = all_readings_by_day.count()   # number of daily readings (non-negative)\n",
    "\n",
    "daily_averages.rename(columns={'reading':'daily average'}, inplace=True)\n",
    "num_readings_in_day.rename(columns={'reading':'num readings in day'}, inplace=True)\n",
    "\n",
    "daily_averages_in_month = daily_averages.groupby(pd.TimeGrouper(freq='M'))\n",
    "\n",
    "'''FILTERED READINGS (negative numbers, days with <84 readings)'''\n",
    "filtered_readings_by_day = pd.concat([num_readings_in_day, daily_averages],\n",
    "                                     axis=1,\n",
    "                                     join_axes=[num_readings_in_day.index])\n",
    "\n",
    "# filter out days with more than 3 hours missing data\n",
    "filtered_readings_by_day = filtered_readings_by_day[filtered_readings_by_day['num readings in day']>=(21*60.0/time_step)]   \n",
    "filtered_readings_by_month = filtered_readings_by_day.groupby(pd.TimeGrouper(freq='M'))\n"
   ]
  },
  {
   "cell_type": "code",
   "execution_count": null,
   "metadata": {
    "collapsed": false,
    "deletable": true,
    "editable": true
   },
   "outputs": [],
   "source": [
    "'''DATA'''\n",
    "'''DAILY'''\n",
    "d_mean = all_readings_by_day.sum()/(60.0/time_step)                       # daily averages (unfiltered)\n",
    "d_mean.rename(columns={\"reading\": \"daily average\"}, inplace=True)\n",
    "\n",
    "d_num_readings = all_readings_by_day.count()                              # number of readings in the month\n",
    "d_num_readings.rename(columns={\"reading\": \"num readings in day\"}, inplace=True)\n",
    "\n",
    "d_min = all_readings_by_day.min()                                        # minimum daily average in the month\n",
    "d_min.rename(columns={\"reading\": \"lowest reading in day\"}, inplace=True)\n",
    "\n",
    "d_min_when = all_readings_by_day.idxmin()                                # minimum daily average in the month\n",
    "d_min_when.rename(columns={\"reading\": \"time of lowest reading\"}, inplace=True)\n",
    "\n",
    "d_max = all_readings_by_day.max()                                        # minimum daily average in the month\n",
    "d_max.rename(columns={\"reading\": \"highest reading in day\"}, inplace=True)\n",
    "\n",
    "d_max_when = all_readings_by_day.idxmax()                                # minimum daily average in the month\n",
    "d_max_when.rename(columns={\"reading\": \"time of highest reading\"}, inplace=True)\n",
    "\n",
    "\n",
    "'''DAILY BY MONTH'''     \n",
    "d_m_mean = d_mean.groupby(pd.TimeGrouper(freq='M')).mean()                  # monthly average (based on all) \n",
    "d_m_mean.rename(columns={\"reading\": \"monthly average\"}, inplace=True)\n",
    "\n",
    "d_m_num_readings = all_readings_by_month.count()                            # number of readings in the month\n",
    "d_m_num_readings.rename(columns={\"reading\": \"num readings in month\"}, inplace=True)\n",
    "\n",
    "d_m_min = all_readings_by_month.min()                                       # lowest reading in the month\n",
    "d_m_min.rename(columns={\"reading\": \"lowest reading in month\"}, inplace=True)\n",
    "\n",
    "d_m_min_when = all_readings_by_month.idxmin()                               # date/time of lowest reading\n",
    "d_m_min_when.rename(columns={\"reading\": \"time of lowest reading\"}, inplace=True)\n",
    "\n",
    "d_m_max = all_readings_by_month.max()                                       # highest reading in the month\n",
    "d_m_max.rename(columns={\"reading\": \"highest reading in month\"}, inplace=True)\n",
    "\n",
    "d_m_max_when =  all_readings_by_month.idxmax()                              # date/time of highest reading\n",
    "d_m_max_when.rename(columns={\"reading\": \"time of highest reading\"}, inplace=True)\n",
    "\n",
    "'''MONTHLY'''\n",
    "m_mean = filtered_readings_by_month['daily average'].mean()               # monthly average\n",
    "m_mean.rename('monthly average', inplace=True)\n",
    "\n",
    "m_num_readings = filtered_readings_by_month['num readings in day'].sum()  # number of readings in the month\n",
    "m_num_readings.rename('num readings in month', inplace=True)\n",
    "\n",
    "m_days_logging = filtered_readings_by_month['daily average'].count()\n",
    "m_days_logging.rename('days logging', inplace=True)\n",
    "\n",
    "m_min = filtered_readings_by_month['daily average'].min()                 # lowest daily average in the month\n",
    "m_min.rename('lowest daily average', inplace=True)\n",
    "\n",
    "m_min_when = filtered_readings_by_month['daily average'].idxmin()         # date of lowest daily average\n",
    "m_min_when.rename('date of lowest daily average', inplace=True)\n",
    "\n",
    "m_max = filtered_readings_by_month['daily average'].max()                 # highest daily average in the month\n",
    "m_max.rename('highest daily average', inplace=True)\n",
    "\n",
    "m_max_when = filtered_readings_by_month['daily average'].idxmax()         # day of highest daily average\n",
    "m_max_when.rename('date of highest daily average', inplace=True)"
   ]
  },
  {
   "cell_type": "code",
   "execution_count": null,
   "metadata": {
    "collapsed": false,
    "deletable": true,
    "editable": true
   },
   "outputs": [],
   "source": [
    "d_stats = pd.concat([d_num_readings, d_min, d_min_when, d_max, d_max_when, d_mean],\n",
    "                   axis=1,\n",
    "                   join_axes=[d_num_readings.index])\n",
    "\n",
    "d_stats"
   ]
  },
  {
   "cell_type": "code",
   "execution_count": null,
   "metadata": {
    "collapsed": false,
    "deletable": true,
    "editable": true
   },
   "outputs": [],
   "source": [
    "d_m_stats = pd.concat([d_m_num_readings, d_m_min, d_m_min_when, d_m_max, d_m_max_when, d_m_mean],\n",
    "                   axis=1,\n",
    "                   join_axes=[d_m_num_readings.index])\n",
    "\n",
    "print(\"SENSOR STATS for {}\".format(infile))\n",
    "d_m_stats"
   ]
  },
  {
   "cell_type": "code",
   "execution_count": null,
   "metadata": {
    "collapsed": false,
    "deletable": true,
    "editable": true
   },
   "outputs": [],
   "source": [
    "m_stats = pd.concat([m_num_readings, m_days_logging, m_min, m_min_when, m_max, m_max_when, m_mean],\n",
    "                    axis=1,\n",
    "                    join_axes=[m_num_readings.index])\n",
    "\n",
    "# m_stats = pd.concat([m_num_readings, m_days_logging, m_min, m_max, m_mean],\n",
    "#                     axis=1,\n",
    "#                     join_axes=[m_num_readings.index])\n",
    "\n",
    "\n",
    "m_stats.drop(m_stats[m_stats['days logging']<n].index, inplace=True)\n",
    "print(\"MONTHLY STATS for {}\".format(infile))\n",
    "m_stats"
   ]
  },
  {
   "cell_type": "markdown",
   "metadata": {
    "deletable": true,
    "editable": true
   },
   "source": [
    "### PLOTS"
   ]
  },
  {
   "cell_type": "code",
   "execution_count": null,
   "metadata": {
    "collapsed": true,
    "deletable": true,
    "editable": true
   },
   "outputs": [],
   "source": [
    "plt.style.use('ggplot')"
   ]
  },
  {
   "cell_type": "markdown",
   "metadata": {
    "deletable": true,
    "editable": true
   },
   "source": [
    "### ALL READINGS PER MONTH"
   ]
  },
  {
   "cell_type": "code",
   "execution_count": null,
   "metadata": {
    "collapsed": false,
    "deletable": true,
    "editable": true
   },
   "outputs": [],
   "source": [
    "keys01 = all_readings_by_month.groups.keys();\n",
    "keys01.sort()\n",
    "\n",
    "for key in keys01:\n",
    "    to_plot = all_readings_by_month.get_group(key)\n",
    "    if to_plot.count().item() < 1:  #1440\n",
    "        pass\n",
    "    \n",
    "    else:\n",
    "        fig = plt.figure(figsize=(16,6))\n",
    "        ax = fig.add_subplot(1,1,1)\n",
    "\n",
    "        ax.spines['bottom'].set_color('black')\n",
    "        ax.spines['top'].set_color('black') \n",
    "        ax.spines['right'].set_color('black')\n",
    "        ax.spines['left'].set_color('black')\n",
    "\n",
    "        ax.tick_params(direction='inout', length=8, width=1, colors='black', top=False, right=False)\n",
    "\n",
    "        ax.set_title(\"Readings of {} pyranometer for {}\".format(suc, str(key)[:-12]))\n",
    "\n",
    "        ax.set_ylabel('W/m^2')\n",
    "        ax.set_ylim(0,1400)\n",
    "        ax.set_xlabel('Date')\n",
    "\n",
    "        plt.xticks(rotation=90)\n",
    "        #with plt.style.context('ggplot'):\n",
    "        plt.plot(to_plot.index, to_plot, '-')\n",
    "        #plt.savefig(\"{}/{}_{}_all.png\".format(img_savedir, suc, str(key)[:-12]), bbox_inches='tight')\n",
    "        plt.show()\n",
    "        "
   ]
  },
  {
   "cell_type": "markdown",
   "metadata": {
    "deletable": true,
    "editable": true
   },
   "source": [
    "### DAILY AVERAGE PER MONTH    \n"
   ]
  },
  {
   "cell_type": "code",
   "execution_count": null,
   "metadata": {
    "collapsed": false,
    "deletable": true,
    "editable": true
   },
   "outputs": [],
   "source": [
    "keys02 = all_readings_by_month.groups.keys();\n",
    "keys02.sort()\n",
    "\n",
    "for key in keys02:\n",
    "    to_plot = daily_averages_in_month.get_group(key)\n",
    "    if to_plot.count().item() < 1:\n",
    "        pass\n",
    "    \n",
    "    else:\n",
    "        fig = plt.figure(figsize=(16,6))\n",
    "        ax = fig.add_subplot(1,1,1)\n",
    "\n",
    "        ax.spines['bottom'].set_color('black')\n",
    "        ax.spines['top'].set_color('black') \n",
    "        ax.spines['right'].set_color('black')\n",
    "        ax.spines['left'].set_color('black')\n",
    "\n",
    "        ax.tick_params(direction='inout', length=8, width=1, colors='black', top=False, right=False)\n",
    "\n",
    "        ax.set_title(\"Daily Average Readings of {} Pyranometer {}\".format(suc, str(key)[:-12]))\n",
    "\n",
    "        ax.set_ylabel('Wh/m^2-day')\n",
    "        ax.set_ylim(0,8000)\n",
    "        ax.set_xlabel('Date')\n",
    "\n",
    "        plt.xticks(rotation=90)\n",
    "        #with plt.style.context('ggplot'):\n",
    "        plt.plot(to_plot.index, to_plot, 'o-')\n",
    "        #plt.savefig(\"{}/{}_{}_daily.png\".format(img_savedir, suc, str(key)[:-12]), bbox_inches='tight')\n",
    "        plt.show()"
   ]
  },
  {
   "cell_type": "markdown",
   "metadata": {
    "deletable": true,
    "editable": true
   },
   "source": [
    "### DAILY READINGS"
   ]
  },
  {
   "cell_type": "code",
   "execution_count": null,
   "metadata": {
    "collapsed": false,
    "deletable": true,
    "editable": true
   },
   "outputs": [],
   "source": [
    "#all_readings_day.plot(figsize=(8,5), ylim=(0,1400));\n",
    "\n",
    "keys03 = all_readings_by_day.groups.keys();\n",
    "keys03.sort()\n",
    "\n",
    "for key in keys03:\n",
    "    to_plot = all_readings_by_day.get_group(key)\n",
    "    if to_plot.count().item() < 80:\n",
    "        pass\n",
    "    \n",
    "    else:\n",
    "        fig = plt.figure(figsize=(9,6))\n",
    "        ax = fig.add_subplot(1,1,1)\n",
    "\n",
    "        ax.spines['bottom'].set_color('black')\n",
    "        ax.spines['top'].set_color('black') \n",
    "        ax.spines['right'].set_color('black')\n",
    "        ax.spines['left'].set_color('black')\n",
    "\n",
    "        ax.tick_params(direction='inout', length=8, width=1, colors='black', top=False, right=False)\n",
    "\n",
    "        ax.set_title(\"Readings of {} Pyranometer for {}\".format(suc, str(key)[:-9]))\n",
    "\n",
    "        ax.set_ylabel('W/m^2')\n",
    "        ax.set_ylim(0,1400)\n",
    "        ax.set_xlabel('Time')\n",
    "\n",
    "        plt.xticks(rotation=90)\n",
    "        #with plt.style.context('ggplot'):\n",
    "        plt.plot_date(to_plot.index, to_plot, 'o-')\n",
    "        plt.show()"
   ]
  }
 ],
 "metadata": {
  "kernelspec": {
   "display_name": "Python 2",
   "language": "python",
   "name": "python2"
  },
  "language_info": {
   "codemirror_mode": {
    "name": "ipython",
    "version": 2
   },
   "file_extension": ".py",
   "mimetype": "text/x-python",
   "name": "python",
   "nbconvert_exporter": "python",
   "pygments_lexer": "ipython2",
   "version": "2.7.12"
  }
 },
 "nbformat": 4,
 "nbformat_minor": 1
}
